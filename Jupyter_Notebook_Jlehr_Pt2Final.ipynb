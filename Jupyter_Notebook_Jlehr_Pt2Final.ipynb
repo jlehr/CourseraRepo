{
 "cells": [
  {
   "cell_type": "markdown",
   "metadata": {},
   "source": [
    "<center>\n",
    "    <img src=\"https://s3-api.us-geo.objectstorage.softlayer.net/cf-courses-data/CognitiveClass/Logos/organization_logo/organization_logo.png\" width=\"300\" alt=\"cognitiveclass.ai logo\"  />\n",
    "</center>\n"
   ]
  },
  {
   "cell_type": "markdown",
   "metadata": {},
   "source": [
    "#### Add your code below following the instructions given in the course\n"
   ]
  },
  {
   "cell_type": "markdown",
   "metadata": {},
   "source": [
    "# My Jupyter Notebook on IBM Watson Studio"
   ]
  },
  {
   "cell_type": "markdown",
   "metadata": {},
   "source": [
    "**Justen Lehrmann**<br>\n",
    "Petroleum Engineering Data Scientist "
   ]
  },
  {
   "cell_type": "markdown",
   "metadata": {},
   "source": [
    "*My interest in data sciences began after seeing the power of SQL queries to retrieve, organize, and filter large data sets for further manipulation. I then learned about python, and it's ability to automate many data compilation and refining tasks, and in looking more into both, I can across data science, and was intrigued by it's ability to automate many repetitive human-error-prone tasks.*"
   ]
  },
  {
   "cell_type": "markdown",
   "metadata": {},
   "source": [
    "### The following code will add 17 to 1, and multiply the summation by 14"
   ]
  },
  {
   "cell_type": "code",
   "execution_count": 1,
   "metadata": {},
   "outputs": [
    {
     "data": {
      "text/plain": [
       "252"
      ]
     },
     "execution_count": 1,
     "metadata": {},
     "output_type": "execute_result"
    }
   ],
   "source": [
    "(17+1)*14"
   ]
  },
  {
   "cell_type": "markdown",
   "metadata": {},
   "source": [
    "#### Bulleted List\n",
    "* Item 1\n",
    "    * Sub item 1\n",
    "* Item 2\n",
    "    * Sub item 1\n",
    "    * Sub item 2<br>\n",
    "#### Numbered List\n",
    "1. Item 1\n",
    "    1. sub item 1\n",
    "    2. Sub item 2\n",
    "2. Item 2<br>\n",
    "#### Table Example\n",
    "\n",
    "| Column 1 | Column 2 | Column 3 |\n",
    "| --- | --- | --- |\n",
    "| 1 | AAAAAAAAAAAAAAAA | Example Sentence |\n",
    "| 2 | Random Sentence | ABBCCCDDDDEEEEEFFFFFF |"
   ]
  },
  {
   "cell_type": "code",
   "execution_count": null,
   "metadata": {},
   "outputs": [],
   "source": []
  }
 ],
 "metadata": {
  "kernelspec": {
   "display_name": "Python 3 (ipykernel)",
   "language": "python",
   "name": "python3"
  },
  "language_info": {
   "codemirror_mode": {
    "name": "ipython",
    "version": 3
   },
   "file_extension": ".py",
   "mimetype": "text/x-python",
   "name": "python",
   "nbconvert_exporter": "python",
   "pygments_lexer": "ipython3",
   "version": "3.10.4"
  }
 },
 "nbformat": 4,
 "nbformat_minor": 4
}
